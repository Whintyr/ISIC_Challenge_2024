{
 "cells": [
  {
   "cell_type": "code",
   "execution_count": 1,
   "id": "5ab85109",
   "metadata": {
    "_cell_guid": "b1076dfc-b9ad-4769-8c92-a6c4dae69d19",
    "_uuid": "8f2839f25d086af736a60e9eeb907d3b93b6e0e5",
    "execution": {
     "iopub.execute_input": "2024-09-04T17:49:16.600071Z",
     "iopub.status.busy": "2024-09-04T17:49:16.599687Z",
     "iopub.status.idle": "2024-09-04T17:49:29.636579Z",
     "shell.execute_reply": "2024-09-04T17:49:29.635687Z"
    },
    "papermill": {
     "duration": 13.045314,
     "end_time": "2024-09-04T17:49:29.639199",
     "exception": false,
     "start_time": "2024-09-04T17:49:16.593885",
     "status": "completed"
    },
    "tags": []
   },
   "outputs": [],
   "source": [
    "import pandas as pd\n",
    "import numpy as np\n",
    "from sklearn.preprocessing import OneHotEncoder, MinMaxScaler, StandardScaler, PowerTransformer\n",
    "import catboost as cb\n",
    "from catboost import CatBoostClassifier, Pool\n",
    "from sklearn.metrics import roc_auc_score\n",
    "\n",
    "dtype_dict = {\n",
    "    'isic_id': 'object',\n",
    "    'target': 'int64',\n",
    "    'patient_id': 'object',\n",
    "    'age_approx': 'float64',\n",
    "    'sex': 'string',\n",
    "    'anatom_site_general': 'string',\n",
    "    'clin_size_long_diam_mm': 'float64',\n",
    "    'image_type': 'object',\n",
    "    'tbp_tile_type': 'string',\n",
    "    'tbp_lv_A': 'float64',\n",
    "    'tbp_lv_Aext': 'float64',\n",
    "    'tbp_lv_B': 'float64',\n",
    "    'tbp_lv_Bext': 'float64',\n",
    "    'tbp_lv_C': 'float64',\n",
    "    'tbp_lv_Cext': 'float64',\n",
    "    'tbp_lv_H': 'float64',\n",
    "    'tbp_lv_Hext': 'float64',\n",
    "    'tbp_lv_L': 'float64',\n",
    "    'tbp_lv_Lext': 'float64',\n",
    "    'tbp_lv_areaMM2': 'float64',\n",
    "    'tbp_lv_area_perim_ratio': 'float64',\n",
    "    'tbp_lv_color_std_mean': 'float64',\n",
    "    'tbp_lv_deltaA': 'float64',\n",
    "    'tbp_lv_deltaB': 'float64',\n",
    "    'tbp_lv_deltaL': 'float64',\n",
    "    'tbp_lv_deltaLB': 'float64',\n",
    "    'tbp_lv_deltaLBnorm': 'float64',\n",
    "    'tbp_lv_eccentricity': 'float64',\n",
    "    'tbp_lv_location': 'string',\n",
    "    'tbp_lv_location_simple': 'string',\n",
    "    'tbp_lv_minorAxisMM': 'float64',\n",
    "    'tbp_lv_nevi_confidence': 'float64',\n",
    "    'tbp_lv_norm_border': 'float64',\n",
    "    'tbp_lv_norm_color': 'float64',\n",
    "    'tbp_lv_perimeterMM': 'float64',\n",
    "    'tbp_lv_radial_color_std_max': 'float64',\n",
    "    'tbp_lv_stdL': 'float64',\n",
    "    'tbp_lv_stdLExt': 'float64',\n",
    "    'tbp_lv_symm_2axis': 'float64',\n",
    "    'tbp_lv_symm_2axis_angle': 'int64',\n",
    "    'tbp_lv_x': 'float64',\n",
    "    'tbp_lv_y': 'float64',\n",
    "    'tbp_lv_z': 'float64',\n",
    "    'attribution': 'object',\n",
    "    'copyright_license': 'object'\n",
    "}\n",
    "\n",
    "\n",
    "# Load the CSV files into DataFrames\n",
    "train_df = pd.read_csv('/kaggle/input/isic-2024-challenge/train-metadata.csv',low_memory=False,dtype=dtype_dict)\n",
    "test_df = pd.read_csv('/kaggle/input/isic-2024-challenge/test-metadata.csv',low_memory=False,dtype=dtype_dict)\n",
    "\n",
    "# Find the columns present in the train DataFrame but not in the test DataFrame\n",
    "# Ensure that the 'target' column is not removed\n",
    "columns_to_remove = [col for col in train_df.columns if col not in test_df.columns and col != 'target']\n",
    "\n",
    "# Drop these columns from the train DataFrame\n",
    "train_df = train_df.drop(columns=columns_to_remove)\n",
    "\n",
    "# First, replace NaN values with None if they are not already None\n",
    "train_df['sex'] = train_df['sex'].replace({np.nan: None})\n",
    "\n",
    "# Now apply your mapping\n",
    "train_df['sex'] = train_df['sex'].map({'male': 1, 'female': 0, None: 0.5})\n",
    "\n",
    "# Calculate the mode of the column\n",
    "mode_value = train_df['anatom_site_general'].mode()[0]\n",
    "\n",
    "# Replace NaN values in the column with the mode\n",
    "train_df['anatom_site_general'] = train_df['anatom_site_general'].fillna(mode_value)\n",
    "\n",
    "# Calculate the mode of the column\n",
    "mean_value = train_df['age_approx'].mean()\n",
    "\n",
    "# Replace NaN values in the column with the mode\n",
    "train_df['age_approx'] = train_df['age_approx'].fillna(mean_value)\n",
    "\n",
    "targets = train_df['target']\n",
    "train_df = train_df.drop(columns = ['target'])"
   ]
  },
  {
   "cell_type": "code",
   "execution_count": 2,
   "id": "46189bf1",
   "metadata": {
    "execution": {
     "iopub.execute_input": "2024-09-04T17:49:29.647797Z",
     "iopub.status.busy": "2024-09-04T17:49:29.647039Z",
     "iopub.status.idle": "2024-09-04T17:49:35.632135Z",
     "shell.execute_reply": "2024-09-04T17:49:35.631322Z"
    },
    "papermill": {
     "duration": 5.991722,
     "end_time": "2024-09-04T17:49:35.634523",
     "exception": false,
     "start_time": "2024-09-04T17:49:29.642801",
     "status": "completed"
    },
    "tags": []
   },
   "outputs": [],
   "source": [
    "# Assuming train_df is your DataFrame\n",
    "# train_df = pd.read_csv('your_train_df.csv')\n",
    "\n",
    "# Step 1: Divide 'tbp_lv_nevi_confidence' by 100\n",
    "train_df['tbp_lv_nevi_confidence'] = train_df['tbp_lv_nevi_confidence'] / 100\n",
    "\n",
    "# Step 2: Drop specified columns if they exist\n",
    "columns_to_drop = [\n",
    "    'isic_id', 'patient_id', 'image_type', \n",
    "    'attribution', 'copyright_license'\n",
    "]\n",
    "train_df.drop(columns=columns_to_drop, inplace=True)\n",
    "\n",
    "# Step 3: Min-Max Scaling for 'age'\n",
    "scaler = MinMaxScaler()\n",
    "train_df['age_approx'] = scaler.fit_transform(train_df[['age_approx']])\n",
    "\n",
    "# Step 4: One-Hot Encoding for categorical variables\n",
    "categorical_columns = [\n",
    "    'sex', 'anatom_site_general', 'tbp_tile_type', \n",
    "    'tbp_lv_location', 'tbp_lv_location_simple'\n",
    "]\n",
    "categorical_features_indices = [train_df.columns.get_loc(col) for col in categorical_columns]\n",
    "\n",
    "# Step 5: Yeo-Johnson and Z-Score Scaling for specified columns\n",
    "columns_to_transform = [\n",
    "    'clin_size_long_diam_mm', 'tbp_lv_areaMM2', 'tbp_lv_area_perim_ratio', 'tbp_lv_color_std_mean',\n",
    "    'tbp_lv_deltaA', 'tbp_lv_deltaB', 'tbp_lv_deltaL', 'tbp_lv_deltaLB', 'tbp_lv_deltaLBnorm', \n",
    "    'tbp_lv_eccentricity', 'tbp_lv_minorAxisMM', 'tbp_lv_norm_border', 'tbp_lv_norm_color', \n",
    "    'tbp_lv_perimeterMM', 'tbp_lv_radial_color_std_max', 'tbp_lv_stdL', 'tbp_lv_stdLExt', \n",
    "    'tbp_lv_symm_2axis', 'tbp_lv_x', 'tbp_lv_y', 'tbp_lv_z', 'tbp_lv_A', 'tbp_lv_Aext', \n",
    "    'tbp_lv_B', 'tbp_lv_Bext', 'tbp_lv_C', 'tbp_lv_Cext', 'tbp_lv_H', 'tbp_lv_Hext', \n",
    "    'tbp_lv_L', 'tbp_lv_symm_2axis_angle'\n",
    "]\n",
    "\n",
    "yeo_transformer = PowerTransformer(method='yeo-johnson')\n",
    "standard_scaler = StandardScaler()\n",
    "\n",
    "\n",
    "# Apply Yeo-Johnson transformation\n",
    "train_df[columns_to_transform] = yeo_transformer.fit_transform(train_df[columns_to_transform])\n",
    "# Apply Z-Score normalization\n",
    "train_df[columns_to_transform] = standard_scaler.fit_transform(train_df[columns_to_transform])\n",
    "\n",
    "# Save the preprocessed DataFrame to a new CSV file\n",
    "# train_df.to_csv('preprocessed_train_df.csv', index=False)"
   ]
  },
  {
   "cell_type": "code",
   "execution_count": 3,
   "id": "f2156ce8",
   "metadata": {
    "execution": {
     "iopub.execute_input": "2024-09-04T17:49:35.643754Z",
     "iopub.status.busy": "2024-09-04T17:49:35.643073Z",
     "iopub.status.idle": "2024-09-04T17:49:36.157550Z",
     "shell.execute_reply": "2024-09-04T17:49:36.156546Z"
    },
    "papermill": {
     "duration": 0.521723,
     "end_time": "2024-09-04T17:49:36.160071",
     "exception": false,
     "start_time": "2024-09-04T17:49:35.638348",
     "status": "completed"
    },
    "tags": []
   },
   "outputs": [
    {
     "name": "stderr",
     "output_type": "stream",
     "text": [
      "/tmp/ipykernel_23/3409235602.py:20: FutureWarning: Setting an item of incompatible dtype is deprecated and will raise in a future error of pandas. Value '0         1.0\n",
      "1         1.0\n",
      "2         1.0\n",
      "3         1.0\n",
      "4         1.0\n",
      "         ... \n",
      "401054    1.0\n",
      "401055    1.0\n",
      "401056    0.0\n",
      "401057    0.0\n",
      "401058    1.0\n",
      "Name: sex, Length: 401059, dtype: object' has dtype incompatible with float64, please explicitly cast to a compatible dtype first.\n",
      "  train_df.iloc[:, col] = train_df.iloc[:, col].astype(str)\n",
      "/tmp/ipykernel_23/3409235602.py:22: FutureWarning: Setting an item of incompatible dtype is deprecated and will raise in a future error of pandas. Value '0    1.0\n",
      "1    0.0\n",
      "2    1.0\n",
      "Name: sex, dtype: object' has dtype incompatible with float64, please explicitly cast to a compatible dtype first.\n",
      "  test_df.iloc[:, col] = test_df.iloc[:, col].astype(str)\n"
     ]
    }
   ],
   "source": [
    "# Handling missing values and mapping for test_df\n",
    "test_df['sex'] = test_df['sex'].replace({np.nan: None})\n",
    "test_df['sex'] = test_df['sex'].map({'male': 1, 'female': 0, None: 0.5})\n",
    "\n",
    "test_df['anatom_site_general'] = test_df['anatom_site_general'].fillna(mode_value)\n",
    "test_df['age_approx'] = test_df['age_approx'].fillna(mean_value)\n",
    "test_df['tbp_lv_nevi_confidence'] = test_df['tbp_lv_nevi_confidence'] / 100\n",
    "\n",
    "# Drop specified columns\n",
    "isic = test_df[\"isic_id\"]\n",
    "test_df.drop(columns=columns_to_drop, inplace=True, errors='ignore')\n",
    "\n",
    "# Min-Max Scaling for 'age_approx'\n",
    "test_df['age_approx'] = scaler.transform(test_df[['age_approx']])\n",
    "\n",
    "test_df[columns_to_transform] = yeo_transformer.transform(test_df[columns_to_transform])\n",
    "test_df[columns_to_transform] = standard_scaler.transform(test_df[columns_to_transform])\n",
    "\n",
    "for col in categorical_features_indices:\n",
    "    train_df.iloc[:, col] = train_df.iloc[:, col].astype(str)\n",
    "for col in categorical_features_indices:\n",
    "    test_df.iloc[:, col] = test_df.iloc[:, col].astype(str)"
   ]
  },
  {
   "cell_type": "code",
   "execution_count": 4,
   "id": "6c73c8ce",
   "metadata": {
    "execution": {
     "iopub.execute_input": "2024-09-04T17:49:36.169228Z",
     "iopub.status.busy": "2024-09-04T17:49:36.168554Z",
     "iopub.status.idle": "2024-09-04T17:49:36.174902Z",
     "shell.execute_reply": "2024-09-04T17:49:36.174125Z"
    },
    "papermill": {
     "duration": 0.013264,
     "end_time": "2024-09-04T17:49:36.177113",
     "exception": false,
     "start_time": "2024-09-04T17:49:36.163849",
     "status": "completed"
    },
    "tags": []
   },
   "outputs": [],
   "source": [
    "def pauc(y_true, y_pred):\n",
    "    min_tpr = 0.8\n",
    "    v_gt = abs(np.asarray(y_true) - 1)\n",
    "    v_pred = np.array([1.0 - x for x in y_pred])\n",
    "    max_fpr = abs(1 - min_tpr)\n",
    "    partial_auc_scaled = roc_auc_score(v_gt, v_pred, max_fpr=max_fpr)\n",
    "    partial_auc = 0.5 * max_fpr * 2 + (max_fpr - 0.5 * max_fpr * 2) / (1.0 - 0.5) * (partial_auc_scaled - 0.5)\n",
    "    return partial_auc"
   ]
  },
  {
   "cell_type": "code",
   "execution_count": 5,
   "id": "16058d22",
   "metadata": {
    "execution": {
     "iopub.execute_input": "2024-09-04T17:49:36.186366Z",
     "iopub.status.busy": "2024-09-04T17:49:36.186050Z",
     "iopub.status.idle": "2024-09-04T17:52:14.841924Z",
     "shell.execute_reply": "2024-09-04T17:52:14.840659Z"
    },
    "papermill": {
     "duration": 158.663226,
     "end_time": "2024-09-04T17:52:14.844379",
     "exception": false,
     "start_time": "2024-09-04T17:49:36.181153",
     "status": "completed"
    },
    "tags": []
   },
   "outputs": [
    {
     "name": "stdout",
     "output_type": "stream",
     "text": [
      "#########################\n",
      "# Fold 1\n",
      "#########################\n"
     ]
    },
    {
     "name": "stderr",
     "output_type": "stream",
     "text": [
      "Default metric period is 5 because AUC is/are not implemented for GPU\n"
     ]
    },
    {
     "name": "stdout",
     "output_type": "stream",
     "text": [
      "0:\ttest: 0.8019479\tbest: 0.8019479 (0)\ttotal: 12.7s\tremaining: 1d 11h 12m 3s\n",
      "bestTest = 0.9355524182\n",
      "bestIteration = 125\n",
      "Shrink model to first 126 iterations.\n",
      "Fold ROC-AUC score:  0.9355524182319641\n",
      "#########################\n",
      "# Fold 2\n",
      "#########################\n"
     ]
    },
    {
     "name": "stderr",
     "output_type": "stream",
     "text": [
      "Default metric period is 5 because AUC is/are not implemented for GPU\n"
     ]
    },
    {
     "name": "stdout",
     "output_type": "stream",
     "text": [
      "0:\ttest: 0.6823626\tbest: 0.6823626 (0)\ttotal: 71.2ms\tremaining: 11m 51s\n",
      "bestTest = 0.9532405734\n",
      "bestIteration = 145\n",
      "Shrink model to first 146 iterations.\n",
      "Fold ROC-AUC score:  0.9532405734062195\n",
      "#########################\n",
      "# Fold 3\n",
      "#########################\n"
     ]
    },
    {
     "name": "stderr",
     "output_type": "stream",
     "text": [
      "Default metric period is 5 because AUC is/are not implemented for GPU\n"
     ]
    },
    {
     "name": "stdout",
     "output_type": "stream",
     "text": [
      "0:\ttest: 0.7318250\tbest: 0.7318250 (0)\ttotal: 69.7ms\tremaining: 11m 37s\n",
      "bestTest = 0.9378029108\n",
      "bestIteration = 63\n",
      "Shrink model to first 64 iterations.\n",
      "Fold ROC-AUC score:  0.9378029108047485\n",
      "#########################\n",
      "# Fold 4\n",
      "#########################\n"
     ]
    },
    {
     "name": "stderr",
     "output_type": "stream",
     "text": [
      "Default metric period is 5 because AUC is/are not implemented for GPU\n"
     ]
    },
    {
     "name": "stdout",
     "output_type": "stream",
     "text": [
      "0:\ttest: 0.7375234\tbest: 0.7375234 (0)\ttotal: 69.6ms\tremaining: 11m 35s\n",
      "bestTest = 0.9369870424\n",
      "bestIteration = 182\n",
      "Shrink model to first 183 iterations.\n",
      "Fold ROC-AUC score:  0.936987042427063\n",
      "#########################\n",
      "# Fold 5\n",
      "#########################\n"
     ]
    },
    {
     "name": "stderr",
     "output_type": "stream",
     "text": [
      "Default metric period is 5 because AUC is/are not implemented for GPU\n"
     ]
    },
    {
     "name": "stdout",
     "output_type": "stream",
     "text": [
      "0:\ttest: 0.8351799\tbest: 0.8351799 (0)\ttotal: 1.14s\tremaining: 3h 10m 40s\n",
      "bestTest = 0.9423976243\n",
      "bestIteration = 120\n",
      "Shrink model to first 121 iterations.\n",
      "Fold ROC-AUC score:  0.9423976242542267\n"
     ]
    }
   ],
   "source": [
    "from sklearn.model_selection import StratifiedKFold\n",
    "import gc\n",
    "\n",
    "FOLDS = 5\n",
    "skf = StratifiedKFold(n_splits=FOLDS, shuffle=True, random_state=42)\n",
    "test_preds = np.zeros((len(test_df), FOLDS), dtype=np.float32)\n",
    "scores = []\n",
    "for fold, (train_idx, val_idx) in enumerate(skf.split(train_df, targets)):\n",
    "    print(\"#\" * 25)\n",
    "    print(f\"# Fold {fold + 1}\")\n",
    "    print(\"#\" * 25)\n",
    "    X_train_fold = train_df.loc[train_idx]\n",
    "    y_train_fold = targets.loc[train_idx].values\n",
    "    X_val_fold = train_df.loc[val_idx]\n",
    "    y_val_fold = targets.loc[val_idx].values\n",
    "    X_train_pool = Pool(X_train_fold, y_train_fold, cat_features=categorical_features_indices)\n",
    "    X_val_pool = Pool(X_val_fold, y_val_fold, cat_features=categorical_features_indices)\n",
    "    X_test_pool = Pool(test_df, cat_features=categorical_features_indices)\n",
    "    \n",
    "    # Train CatBoost\n",
    "    model = cb.CatBoostClassifier(\n",
    "        loss_function='Logloss',\n",
    "        eval_metric='AUC',\n",
    "        class_names=[0, 1],\n",
    "        learning_rate=0.075,\n",
    "        iterations=10000,\n",
    "        depth=9,\n",
    "        random_strength=0,\n",
    "        l2_leaf_reg=0.5,\n",
    "        max_leaves=512,\n",
    "        fold_permutation_block=64,\n",
    "        task_type='GPU',\n",
    "        random_seed=42,\n",
    "        verbose=False\n",
    "    )\n",
    "\n",
    "    model.fit(X=X_train_pool, \n",
    "              eval_set=X_val_pool, \n",
    "              verbose=500, \n",
    "              early_stopping_rounds=200)\n",
    "\n",
    "    score = model.best_score_['validation']['AUC']\n",
    "    print('Fold ROC-AUC score: ', score)\n",
    "    scores.append(score)\n",
    "\n",
    "    test_preds[:, fold] = model.predict_proba(test_df)[:, 1]\n",
    "    \n",
    "    del X_train_fold, y_train_fold\n",
    "    del X_val_fold, y_val_fold\n",
    "    del X_train_pool, X_val_pool, X_test_pool\n",
    "    del model\n",
    "    gc.collect()"
   ]
  },
  {
   "cell_type": "code",
   "execution_count": 6,
   "id": "2f4f61be",
   "metadata": {
    "execution": {
     "iopub.execute_input": "2024-09-04T17:52:14.857038Z",
     "iopub.status.busy": "2024-09-04T17:52:14.856242Z",
     "iopub.status.idle": "2024-09-04T17:52:14.870880Z",
     "shell.execute_reply": "2024-09-04T17:52:14.869979Z"
    },
    "papermill": {
     "duration": 0.023211,
     "end_time": "2024-09-04T17:52:14.873239",
     "exception": false,
     "start_time": "2024-09-04T17:52:14.850028",
     "status": "completed"
    },
    "tags": []
   },
   "outputs": [],
   "source": [
    "test_preds = np.mean(test_preds, axis=1)\n",
    "submission = pd.read_csv('/kaggle/input/isic-2024-challenge/sample_submission.csv')\n",
    "submission['target'] = test_preds.astype(np.float32)\n",
    "submission['isic_id'] = isic\n",
    "submission.to_csv('submission.csv', index=False)"
   ]
  },
  {
   "cell_type": "code",
   "execution_count": null,
   "id": "5055caea",
   "metadata": {
    "papermill": {
     "duration": 0.006266,
     "end_time": "2024-09-04T17:52:14.886395",
     "exception": false,
     "start_time": "2024-09-04T17:52:14.880129",
     "status": "completed"
    },
    "tags": []
   },
   "outputs": [],
   "source": []
  }
 ],
 "metadata": {
  "kaggle": {
   "accelerator": "gpu",
   "dataSources": [
    {
     "databundleVersionId": 9094797,
     "sourceId": 63056,
     "sourceType": "competition"
    },
    {
     "datasetId": 5507803,
     "sourceId": 9123622,
     "sourceType": "datasetVersion"
    },
    {
     "datasetId": 5508694,
     "sourceId": 9124796,
     "sourceType": "datasetVersion"
    },
    {
     "datasetId": 5510266,
     "sourceId": 9126942,
     "sourceType": "datasetVersion"
    }
   ],
   "dockerImageVersionId": 30747,
   "isGpuEnabled": true,
   "isInternetEnabled": false,
   "language": "python",
   "sourceType": "notebook"
  },
  "kernelspec": {
   "display_name": "Python 3",
   "language": "python",
   "name": "python3"
  },
  "language_info": {
   "codemirror_mode": {
    "name": "ipython",
    "version": 3
   },
   "file_extension": ".py",
   "mimetype": "text/x-python",
   "name": "python",
   "nbconvert_exporter": "python",
   "pygments_lexer": "ipython3",
   "version": "3.10.13"
  },
  "papermill": {
   "default_parameters": {},
   "duration": 181.907848,
   "end_time": "2024-09-04T17:52:15.513597",
   "environment_variables": {},
   "exception": null,
   "input_path": "__notebook__.ipynb",
   "output_path": "__notebook__.ipynb",
   "parameters": {},
   "start_time": "2024-09-04T17:49:13.605749",
   "version": "2.5.0"
  }
 },
 "nbformat": 4,
 "nbformat_minor": 5
}
